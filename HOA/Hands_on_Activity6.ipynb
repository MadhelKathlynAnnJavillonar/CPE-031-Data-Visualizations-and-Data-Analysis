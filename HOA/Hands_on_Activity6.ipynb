{
  "nbformat": 4,
  "nbformat_minor": 0,
  "metadata": {
    "colab": {
      "provenance": [],
      "authorship_tag": "ABX9TyOLadw0e3hDq0GPmvfTa/Dt",
      "include_colab_link": true
    },
    "kernelspec": {
      "name": "python3",
      "display_name": "Python 3"
    },
    "language_info": {
      "name": "python"
    }
  },
  "cells": [
    {
      "cell_type": "markdown",
      "metadata": {
        "id": "view-in-github",
        "colab_type": "text"
      },
      "source": [
        "<a href=\"https://colab.research.google.com/github/MadhelKathlynAnnJavillonar/CPE-031-Data-Visualizations-and-Data-Analysis/blob/main/Hands_on_Activity6.ipynb\" target=\"_parent\"><img src=\"https://colab.research.google.com/assets/colab-badge.svg\" alt=\"Open In Colab\"/></a>"
      ]
    },
    {
      "cell_type": "code",
      "execution_count": null,
      "metadata": {
        "colab": {
          "base_uri": "https://localhost:8080/"
        },
        "id": "aBT-xiIEH2qS",
        "outputId": "ca38cbdb-3026-47f6-c00d-5ee1eadfb576"
      },
      "outputs": [
        {
          "output_type": "stream",
          "name": "stdout",
          "text": [
            "Requirement already satisfied: pandas in /usr/local/lib/python3.12/dist-packages (2.2.2)\n",
            "Requirement already satisfied: numpy>=1.26.0 in /usr/local/lib/python3.12/dist-packages (from pandas) (2.0.2)\n",
            "Requirement already satisfied: python-dateutil>=2.8.2 in /usr/local/lib/python3.12/dist-packages (from pandas) (2.9.0.post0)\n",
            "Requirement already satisfied: pytz>=2020.1 in /usr/local/lib/python3.12/dist-packages (from pandas) (2025.2)\n",
            "Requirement already satisfied: tzdata>=2022.7 in /usr/local/lib/python3.12/dist-packages (from pandas) (2025.2)\n",
            "Requirement already satisfied: six>=1.5 in /usr/local/lib/python3.12/dist-packages (from python-dateutil>=2.8.2->pandas) (1.17.0)\n"
          ]
        }
      ],
      "source": [
        "!pip install pandas"
      ]
    },
    {
      "cell_type": "code",
      "source": [
        "import pandas as pd\n",
        "import numpy as np\n",
        "import matplotlib.pyplot as plt"
      ],
      "metadata": {
        "id": "40qvFOcaH3dq"
      },
      "execution_count": null,
      "outputs": []
    },
    {
      "cell_type": "code",
      "source": [
        "from google.colab import drive\n",
        "drive.mount('/content/drive')"
      ],
      "metadata": {
        "colab": {
          "base_uri": "https://localhost:8080/"
        },
        "id": "AFfoiqAiMJA3",
        "outputId": "e3397a1d-5e42-4775-e599-f3b21c8de420"
      },
      "execution_count": null,
      "outputs": [
        {
          "output_type": "stream",
          "name": "stdout",
          "text": [
            "Drive already mounted at /content/drive; to attempt to forcibly remount, call drive.mount(\"/content/drive\", force_remount=True).\n"
          ]
        }
      ]
    },
    {
      "cell_type": "code",
      "source": [
        "df = pd.read_excel('/content/drive/MyDrive/CPE 031 JAVILLONAR/SampleData.xlsx')"
      ],
      "metadata": {
        "id": "WKhKAFZsMT0v"
      },
      "execution_count": 29,
      "outputs": []
    },
    {
      "cell_type": "code",
      "source": [
        "print(df)"
      ],
      "metadata": {
        "colab": {
          "base_uri": "https://localhost:8080/"
        },
        "id": "NMUbSPNmMx6P",
        "outputId": "28f1acda-aaf0-42c8-df1f-5cd7999aacf0"
      },
      "execution_count": 30,
      "outputs": [
        {
          "output_type": "stream",
          "name": "stdout",
          "text": [
            "    OrderDate   Region       Rep     Item  Units  Unit Cost    Total\n",
            "0  2021-01-06     East     Jones   Pencil     95       1.99   189.05\n",
            "1  2021-01-23  Central    Kivell   Binder     50      19.99   999.50\n",
            "2  2021-02-09  Central   Jardine   Pencil     36       4.99   179.64\n",
            "3  2021-02-26  Central      Gill      Pen     27      19.99   539.73\n",
            "4  2021-03-15     West   Sorvino   Pencil     56       2.99   167.44\n",
            "5  2021-04-01     East     Jones   Binder     60       4.99   299.40\n",
            "6  2021-04-18  Central   Andrews   Pencil     75       1.99   149.25\n",
            "7  2021-05-05  Central   Jardine   Pencil     90       4.99   449.10\n",
            "8  2021-05-22     West  Thompson   Pencil     32       1.99    63.68\n",
            "9  2021-06-08     East     Jones   Binder     60       8.99   539.40\n",
            "10 2021-06-25  Central    Morgan   Pencil     90       4.99   449.10\n",
            "11 2021-07-12     East    Howard   Binder     29       1.99    57.71\n",
            "12 2021-07-29     East    Parent   Binder     81      19.99  1619.19\n",
            "13 2021-08-15     East     Jones   Pencil     35       4.99   174.65\n",
            "14 2021-09-01  Central     Smith     Desk      2     125.00   250.00\n",
            "15 2021-09-01  Central     Smith     Desk      2     125.00   250.00\n",
            "16 2021-10-05  Central    Morgan   Binder     28       8.99   251.72\n",
            "17 2021-10-22     East     Jones      Pen     64       8.99   575.36\n",
            "18 2021-11-08     East    Parent      Pen     15      19.99   299.85\n",
            "19 2021-11-25  Central    Kivell  Pen Set     96       4.99   479.04\n",
            "20 2021-12-12  Central     Smith   Pencil     67       1.29    86.43\n",
            "21 2021-12-29     East    Parent  Pen Set     74      15.99  1183.26\n",
            "22 2021-12-29     East    Parent  Pen Set     74      15.99  1183.26\n",
            "23 2022-02-01  Central     Smith   Binder     87      15.00  1305.00\n",
            "24 2022-02-18     East     Jones   Binder      4       4.99    19.96\n",
            "25 2022-03-07     West   Sorvino   Binder      7      19.99   139.93\n",
            "26 2022-03-24  Central   Jardine  Pen Set     50       4.99   249.50\n",
            "27 2022-04-10  Central   Andrews   Pencil     66       1.99   131.34\n",
            "28 2022-04-27     East    Howard      Pen     96       4.99   479.04\n",
            "29 2022-05-14  Central      Gill   Pencil     53       1.29    68.37\n",
            "30 2022-05-31  Central      Gill   Binder     80       8.99   719.20\n",
            "31 2022-06-17  Central    Kivell     Desk      5     125.00   625.00\n",
            "32 2022-07-04     East     Jones  Pen Set     62       4.99   309.38\n",
            "33 2022-07-21  Central    Morgan  Pen Set     55      12.49   686.95\n",
            "34 2022-07-21  Central    Morgan  Pen Set     55      12.49   686.95\n",
            "35 2022-07-21  Central    Morgan  Pen Set     55      12.49   686.95\n",
            "36 2022-09-10  Central      Gill   Pencil      7       1.29     9.03\n",
            "37 2022-09-27     West   Sorvino      Pen     76       1.99   151.24\n",
            "38 2022-10-14     West  Thompson   Binder     57      19.99  1139.43\n",
            "39 2022-10-31  Central   Andrews   Pencil     14       1.29    18.06\n",
            "40 2022-11-17  Central   Jardine   Binder     11       4.99    54.89\n",
            "41 2022-12-04  Central   Jardine   Binder     94      19.99  1879.06\n",
            "42 2022-12-21  Central   Andrews   Binder     28       4.99   139.72\n"
          ]
        }
      ]
    },
    {
      "cell_type": "code",
      "source": [
        "# Interpret data, appropriate title, appropriate chart\n",
        "# Display the DataFame of those items with the same date of sell, according to its representative\n",
        "\n",
        "df['OrderDate'] = pd.to_datetime(df['OrderDate'])\n",
        "\n",
        "monthly_sales = df.groupby(df['OrderDate'].dt.to_period('M'))['Total'].sum()\n",
        "monthly_sales.index = monthly_sales.index.astype(str)\n",
        "\n",
        "plt.figure(figsize=(10, 6))\n",
        "plt.bar(monthly_sales.index, monthly_sales.values)\n",
        "plt.xlabel('Monthly Sales')\n",
        "plt.ylabel('Month')\n",
        "plt.title('Sales')\n",
        "plt.xticks(rotation=45)\n",
        "plt.grid(True)\n",
        "plt.show()\n",
        "\n",
        "duplicate_sales = df.groupby(['OrderDate', 'Region', 'Rep', 'Total']).filter(lambda x: len(x)>1)\n",
        "print(duplicate_sales)"
      ],
      "metadata": {
        "colab": {
          "base_uri": "https://localhost:8080/",
          "height": 740
        },
        "id": "1pVnrg-1OpCG",
        "outputId": "b7d8e666-9f1a-425b-b1fc-bd459664f245"
      },
      "execution_count": 33,
      "outputs": [
        {
          "output_type": "display_data",
          "data": {
            "text/plain": [
              "<Figure size 1000x600 with 1 Axes>"
            ],
            "image/png": "[encoded data removed]"
          },
          "metadata": {}
        },
        {
          "output_type": "stream",
          "name": "stdout",
          "text": [
            "    OrderDate   Region     Rep     Item  Units  Unit Cost    Total\n",
            "14 2021-09-01  Central   Smith     Desk      2     125.00   250.00\n",
            "15 2021-09-01  Central   Smith     Desk      2     125.00   250.00\n",
            "21 2021-12-29     East  Parent  Pen Set     74      15.99  1183.26\n",
            "22 2021-12-29     East  Parent  Pen Set     74      15.99  1183.26\n",
            "33 2022-07-21  Central  Morgan  Pen Set     55      12.49   686.95\n",
            "34 2022-07-21  Central  Morgan  Pen Set     55      12.49   686.95\n",
            "35 2022-07-21  Central  Morgan  Pen Set     55      12.49   686.95\n"
          ]
        }
      ]
    },
    {
      "cell_type": "markdown",
      "source": [
        "# **Descriptive Analysis**\n",
        "\n",
        "Sales Performance Analysis\n",
        "The bar chart visually represents monthly sales data from January 2021 through December 2022. The vertical axis shows the total sales, and the horizontal axis displays the months in a YYYY-MM format.\n",
        "\n",
        "Sales Trends: The chart shows significant fluctuations in monthly sales over the two-year period. Sales were  relatively strong in the first half of 2021, with a peak in March 2021 , followed by a decline and then a recovery in the later months.\n",
        "\n",
        "- November and December 2021 saw a major surge on sales, with December recording the highest sales volume shown in the chart, approaching 2500 units.\n",
        "\n",
        "Sales on 2022 began at a much lower level than the end of 2021. There were a strong rebound on July 2022, where sales nearly matched the peak from the previous year. The year 2022 concluded with a second-highest peak in December, indicating a strong year-end performance.\n",
        "\n",
        "Duplicate Sales Data: The analysis also identified some duplicate sales records. The table at the bottom of the image shows five instances where multiple sales records occurred on the same date for the same sales representative and product. For example, on September 1, 2021, the representative \"Smith\" recorded two identical sales of \"Pen Set\" to the \"Central\" region, both with a total cost of $250.00. These duplicates could represent data entry errors or separate transactions for the same item.\n",
        "\n",
        "In summary, the sales data shows a strong seasonal pattern, with major sales peaks occurring toward the end of both 2021 and 2022. The presence of duplicate records suggests a need to verify data integrity to ensure the accuracy of future analyses."
      ],
      "metadata": {
        "id": "0-5nxsSjSaFs"
      }
    }
  ]
}
